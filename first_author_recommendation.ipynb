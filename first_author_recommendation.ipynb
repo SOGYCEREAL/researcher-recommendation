{
 "cells": [
  {
   "cell_type": "markdown",
   "id": "516d5ae1",
   "metadata": {},
   "source": [
    "# Rekomendasi Peneliti Berdasarkan Rekam Jejak Publikasi  \n"
   ]
  },
  {
   "cell_type": "markdown",
   "id": "9afd701b",
   "metadata": {},
   "source": [
    "# 1. Import Libraries\n",
    "---"
   ]
  },
  {
   "cell_type": "code",
   "execution_count": 1,
   "id": "1f4d0b80",
   "metadata": {},
   "outputs": [],
   "source": [
    "import pandas as pd\n",
    "import numpy as np\n",
    "import matplotlib.pyplot as plt\n",
    "import seaborn as sns\n",
    "import warnings\n",
    "from tqdm import tqdm\n",
    "warnings.filterwarnings('ignore')\n",
    "\n",
    "from sentence_transformers import SentenceTransformer\n",
    "from sklearn.metrics.pairwise import cosine_similarity"
   ]
  },
  {
   "cell_type": "markdown",
   "id": "7eed7077",
   "metadata": {},
   "source": [
    "# 2. Load & Preprocessing Dataset\n",
    "---"
   ]
  },
  {
   "cell_type": "code",
   "execution_count": 2,
   "id": "ec412108",
   "metadata": {},
   "outputs": [
    {
     "name": "stdout",
     "output_type": "stream",
     "text": [
      "<class 'pandas.core.frame.DataFrame'>\n",
      "Index: 135979 entries, 0 to 136237\n",
      "Data columns (total 11 columns):\n",
      " #   Column              Non-Null Count   Dtype \n",
      "---  ------              --------------   ----- \n",
      " 0   id                  135979 non-null  object\n",
      " 1   title               135979 non-null  object\n",
      " 2   category            135979 non-null  object\n",
      " 3   category_code       135979 non-null  object\n",
      " 4   published_date      135979 non-null  object\n",
      " 5   updated_date        135979 non-null  object\n",
      " 6   authors             135979 non-null  object\n",
      " 7   first_author        135979 non-null  object\n",
      " 8   summary             135979 non-null  object\n",
      " 9   summary_word_count  135979 non-null  int64 \n",
      " 10  content             135979 non-null  object\n",
      "dtypes: int64(1), object(10)\n",
      "memory usage: 12.4+ MB\n",
      "None\n"
     ]
    },
    {
     "data": {
      "text/html": [
       "<div>\n",
       "<style scoped>\n",
       "    .dataframe tbody tr th:only-of-type {\n",
       "        vertical-align: middle;\n",
       "    }\n",
       "\n",
       "    .dataframe tbody tr th {\n",
       "        vertical-align: top;\n",
       "    }\n",
       "\n",
       "    .dataframe thead th {\n",
       "        text-align: right;\n",
       "    }\n",
       "</style>\n",
       "<table border=\"1\" class=\"dataframe\">\n",
       "  <thead>\n",
       "    <tr style=\"text-align: right;\">\n",
       "      <th></th>\n",
       "      <th>id</th>\n",
       "      <th>title</th>\n",
       "      <th>category</th>\n",
       "      <th>category_code</th>\n",
       "      <th>published_date</th>\n",
       "      <th>updated_date</th>\n",
       "      <th>authors</th>\n",
       "      <th>first_author</th>\n",
       "      <th>summary</th>\n",
       "      <th>summary_word_count</th>\n",
       "      <th>content</th>\n",
       "    </tr>\n",
       "  </thead>\n",
       "  <tbody>\n",
       "    <tr>\n",
       "      <th>0</th>\n",
       "      <td>cs-9308101v1</td>\n",
       "      <td>Dynamic Backtracking</td>\n",
       "      <td>Artificial Intelligence</td>\n",
       "      <td>cs.AI</td>\n",
       "      <td>8/1/93</td>\n",
       "      <td>8/1/93</td>\n",
       "      <td>['M. L. Ginsberg']</td>\n",
       "      <td>'M. L. Ginsberg'</td>\n",
       "      <td>Because of their occasional need to return to ...</td>\n",
       "      <td>79</td>\n",
       "      <td>Dynamic Backtracking . Because of their occasi...</td>\n",
       "    </tr>\n",
       "    <tr>\n",
       "      <th>1</th>\n",
       "      <td>cs-9308102v1</td>\n",
       "      <td>A Market-Oriented Programming Environment and ...</td>\n",
       "      <td>Artificial Intelligence</td>\n",
       "      <td>cs.AI</td>\n",
       "      <td>8/1/93</td>\n",
       "      <td>8/1/93</td>\n",
       "      <td>['M. P. Wellman']</td>\n",
       "      <td>'M. P. Wellman'</td>\n",
       "      <td>Market price systems constitute a well-underst...</td>\n",
       "      <td>119</td>\n",
       "      <td>A Market-Oriented Programming Environment and ...</td>\n",
       "    </tr>\n",
       "    <tr>\n",
       "      <th>2</th>\n",
       "      <td>cs-9309101v1</td>\n",
       "      <td>An Empirical Analysis of Search in GSAT</td>\n",
       "      <td>Artificial Intelligence</td>\n",
       "      <td>cs.AI</td>\n",
       "      <td>9/1/93</td>\n",
       "      <td>9/1/93</td>\n",
       "      <td>['I. P. Gent', 'T. Walsh']</td>\n",
       "      <td>'I. P. Gent'</td>\n",
       "      <td>We describe an extensive study of search in GS...</td>\n",
       "      <td>167</td>\n",
       "      <td>An Empirical Analysis of Search in GSAT . We d...</td>\n",
       "    </tr>\n",
       "    <tr>\n",
       "      <th>3</th>\n",
       "      <td>cs-9311101v1</td>\n",
       "      <td>The Difficulties of Learning Logic Programs wi...</td>\n",
       "      <td>Artificial Intelligence</td>\n",
       "      <td>cs.AI</td>\n",
       "      <td>11/1/93</td>\n",
       "      <td>11/1/93</td>\n",
       "      <td>['F. Bergadano', 'D. Gunetti', 'U. Trinchero']</td>\n",
       "      <td>'F. Bergadano'</td>\n",
       "      <td>As real logic programmers normally use cut (!)...</td>\n",
       "      <td>174</td>\n",
       "      <td>The Difficulties of Learning Logic Programs wi...</td>\n",
       "    </tr>\n",
       "    <tr>\n",
       "      <th>4</th>\n",
       "      <td>cs-9311102v1</td>\n",
       "      <td>Software Agents: Completing Patterns and Const...</td>\n",
       "      <td>Artificial Intelligence</td>\n",
       "      <td>cs.AI</td>\n",
       "      <td>11/1/93</td>\n",
       "      <td>11/1/93</td>\n",
       "      <td>['J. C. Schlimmer', 'L. A. Hermens']</td>\n",
       "      <td>'J. C. Schlimmer'</td>\n",
       "      <td>To support the goal of allowing users to recor...</td>\n",
       "      <td>187</td>\n",
       "      <td>Software Agents: Completing Patterns and Const...</td>\n",
       "    </tr>\n",
       "  </tbody>\n",
       "</table>\n",
       "</div>"
      ],
      "text/plain": [
       "             id                                              title  \\\n",
       "0  cs-9308101v1                               Dynamic Backtracking   \n",
       "1  cs-9308102v1  A Market-Oriented Programming Environment and ...   \n",
       "2  cs-9309101v1            An Empirical Analysis of Search in GSAT   \n",
       "3  cs-9311101v1  The Difficulties of Learning Logic Programs wi...   \n",
       "4  cs-9311102v1  Software Agents: Completing Patterns and Const...   \n",
       "\n",
       "                  category category_code published_date updated_date  \\\n",
       "0  Artificial Intelligence         cs.AI         8/1/93       8/1/93   \n",
       "1  Artificial Intelligence         cs.AI         8/1/93       8/1/93   \n",
       "2  Artificial Intelligence         cs.AI         9/1/93       9/1/93   \n",
       "3  Artificial Intelligence         cs.AI        11/1/93      11/1/93   \n",
       "4  Artificial Intelligence         cs.AI        11/1/93      11/1/93   \n",
       "\n",
       "                                          authors       first_author  \\\n",
       "0                              ['M. L. Ginsberg']   'M. L. Ginsberg'   \n",
       "1                               ['M. P. Wellman']    'M. P. Wellman'   \n",
       "2                      ['I. P. Gent', 'T. Walsh']       'I. P. Gent'   \n",
       "3  ['F. Bergadano', 'D. Gunetti', 'U. Trinchero']     'F. Bergadano'   \n",
       "4            ['J. C. Schlimmer', 'L. A. Hermens']  'J. C. Schlimmer'   \n",
       "\n",
       "                                             summary  summary_word_count  \\\n",
       "0  Because of their occasional need to return to ...                  79   \n",
       "1  Market price systems constitute a well-underst...                 119   \n",
       "2  We describe an extensive study of search in GS...                 167   \n",
       "3  As real logic programmers normally use cut (!)...                 174   \n",
       "4  To support the goal of allowing users to recor...                 187   \n",
       "\n",
       "                                             content  \n",
       "0  Dynamic Backtracking . Because of their occasi...  \n",
       "1  A Market-Oriented Programming Environment and ...  \n",
       "2  An Empirical Analysis of Search in GSAT . We d...  \n",
       "3  The Difficulties of Learning Logic Programs wi...  \n",
       "4  Software Agents: Completing Patterns and Const...  "
      ]
     },
     "execution_count": 2,
     "metadata": {},
     "output_type": "execute_result"
    }
   ],
   "source": [
    "# Load Dataset\n",
    "df = pd.read_csv('dataset/arXiv_scientific dataset.csv')\n",
    "df = df[df['summary_word_count'] >= 30]\n",
    "df['content'] = df['title'].astype(str) + \" . \" + df['summary'].astype(str) +  \" . \"  + df['category'].astype(str)\n",
    "\n",
    "print(df.info())\n",
    "df.head()"
   ]
  },
  {
   "cell_type": "markdown",
   "id": "7a740c6e",
   "metadata": {},
   "source": [
    "# 3. Exploratory Data Analysis (EDA)\n",
    "---"
   ]
  },
  {
   "cell_type": "code",
   "execution_count": 3,
   "id": "b742d116",
   "metadata": {},
   "outputs": [
    {
     "name": "stdout",
     "output_type": "stream",
     "text": [
      "Total Article: 135979\n",
      "Average Content Length: 1240.40 words\n",
      "Jumlah Missing Values:\n",
      "id                    0\n",
      "title                 0\n",
      "category              0\n",
      "category_code         0\n",
      "published_date        0\n",
      "updated_date          0\n",
      "authors               0\n",
      "first_author          0\n",
      "summary               0\n",
      "summary_word_count    0\n",
      "content               0\n",
      "dtype: int64\n"
     ]
    }
   ],
   "source": [
    "print(f\"Total Article: {len(df)}\")\n",
    "print(f\"Average Content Length: {df['content'].str.len().mean():.2f} words\")\n",
    "print(f\"Jumlah Missing Values:\\n{df.isnull().sum()}\")"
   ]
  },
  {
   "cell_type": "code",
   "execution_count": 4,
   "id": "1adf8e8e",
   "metadata": {},
   "outputs": [
    {
     "data": {
      "image/png": "[encoded data removed]",
      "text/plain": [
       "<Figure size 800x400 with 1 Axes>"
      ]
     },
     "metadata": {},
     "output_type": "display_data"
    }
   ],
   "source": [
    "df['content_length'] = df['content'].str.len()\n",
    "\n",
    "plt.figure(figsize=(8, 4))\n",
    "df['content_length'].hist(bins=50)\n",
    "plt.title(\"Distribusi Panjang Konten Artikel\")\n",
    "plt.xlabel(\"Jumlah Karakter\")\n",
    "plt.ylabel(\"Jumlah Artikel\")\n",
    "plt.show()"
   ]
  },
  {
   "cell_type": "markdown",
   "id": "60c221f6",
   "metadata": {},
   "source": [
    "# 4. Author Profiling (Gabung Publikasi per Peneliti)\n",
    "---"
   ]
  },
  {
   "cell_type": "code",
   "execution_count": 5,
   "id": "f5782a6b",
   "metadata": {},
   "outputs": [
    {
     "name": "stdout",
     "output_type": "stream",
     "text": [
      "Total Unique Researcher: 77638\n"
     ]
    },
    {
     "data": {
      "text/html": [
       "<div>\n",
       "<style scoped>\n",
       "    .dataframe tbody tr th:only-of-type {\n",
       "        vertical-align: middle;\n",
       "    }\n",
       "\n",
       "    .dataframe tbody tr th {\n",
       "        vertical-align: top;\n",
       "    }\n",
       "\n",
       "    .dataframe thead th {\n",
       "        text-align: right;\n",
       "    }\n",
       "</style>\n",
       "<table border=\"1\" class=\"dataframe\">\n",
       "  <thead>\n",
       "    <tr style=\"text-align: right;\">\n",
       "      <th></th>\n",
       "      <th>first_author_clean</th>\n",
       "      <th>content</th>\n",
       "    </tr>\n",
       "  </thead>\n",
       "  <tbody>\n",
       "    <tr>\n",
       "      <th>0</th>\n",
       "      <td>Abhishake</td>\n",
       "      <td>Gradient-Based Non-Linear Inverse Learning . W...</td>\n",
       "    </tr>\n",
       "    <tr>\n",
       "      <th>1</th>\n",
       "      <td>Abhishek</td>\n",
       "      <td>Fine-Grained Entity Type Classification by Joi...</td>\n",
       "    </tr>\n",
       "    <tr>\n",
       "      <th>2</th>\n",
       "      <td>Adaptive Agent Team</td>\n",
       "      <td>Human-Timescale Adaptation in an Open-Ended Ta...</td>\n",
       "    </tr>\n",
       "    <tr>\n",
       "      <th>3</th>\n",
       "      <td>Aishwaryaprajna</td>\n",
       "      <td>Evolutionary Algorithms for Solving Unconstrai...</td>\n",
       "    </tr>\n",
       "    <tr>\n",
       "      <th>4</th>\n",
       "      <td>Aixiang</td>\n",
       "      <td>MSTGD:A Memory Stochastic sTratified Gradient ...</td>\n",
       "    </tr>\n",
       "  </tbody>\n",
       "</table>\n",
       "</div>"
      ],
      "text/plain": [
       "     first_author_clean                                            content\n",
       "0             Abhishake  Gradient-Based Non-Linear Inverse Learning . W...\n",
       "1              Abhishek  Fine-Grained Entity Type Classification by Joi...\n",
       "2   Adaptive Agent Team  Human-Timescale Adaptation in an Open-Ended Ta...\n",
       "3       Aishwaryaprajna  Evolutionary Algorithms for Solving Unconstrai...\n",
       "4               Aixiang  MSTGD:A Memory Stochastic sTratified Gradient ..."
      ]
     },
     "execution_count": 5,
     "metadata": {},
     "output_type": "execute_result"
    }
   ],
   "source": [
    "df['first_author_clean'] = df['first_author'].astype(str).str.strip().str.replace(\"'\", \"\").str.replace('\"', '')\n",
    "author_texts = df.groupby(\"first_author_clean\")[\"content\"].apply(lambda texts: \" \".join(texts)).reset_index()\n",
    "print(f\"Total Unique Researcher: {len(author_texts)}\")\n",
    "author_texts.head()"
   ]
  },
  {
   "cell_type": "markdown",
   "id": "a1f4c199",
   "metadata": {},
   "source": [
    "# 5. Sentence Embedding\n",
    "---"
   ]
  },
  {
   "cell_type": "code",
   "execution_count": 6,
   "id": "ac7bce17",
   "metadata": {},
   "outputs": [],
   "source": [
    "model = SentenceTransformer('all-MiniLM-L6-v2', device='cuda')"
   ]
  },
  {
   "cell_type": "markdown",
   "id": "88010e00",
   "metadata": {},
   "source": [
    "# 6. Batch Processing Embedding\n",
    "---"
   ]
  },
  {
   "cell_type": "code",
   "execution_count": 7,
   "id": "b1c98556",
   "metadata": {},
   "outputs": [
    {
     "name": "stderr",
     "output_type": "stream",
     "text": [
      "100%|██████████| 78/78 [02:31<00:00,  1.94s/it]\n"
     ]
    }
   ],
   "source": [
    "embeddings = []\n",
    "batch_size = 1000\n",
    "\n",
    "for i in tqdm(range(0, len(author_texts), batch_size)):\n",
    "    batch_texts = author_texts['content'].iloc[i:i+batch_size].tolist()\n",
    "    batch_embeddings = model.encode(batch_texts, show_progress_bar=False)\n",
    "    embeddings.extend(batch_embeddings)\n",
    "\n",
    "author_texts['embedding'] = embeddings"
   ]
  },
  {
   "cell_type": "markdown",
   "id": "c1db1f7d",
   "metadata": {},
   "source": [
    "# 7. Sistem Rekomendasi Peneliti\n",
    "---"
   ]
  },
  {
   "cell_type": "code",
   "execution_count": 8,
   "id": "44ea0e4a",
   "metadata": {},
   "outputs": [],
   "source": [
    "def recommend_researcher(query, top_n=5):\n",
    "    query_emb = model.encode(query).reshape(1, -1)\n",
    "    embeddings_array = np.vstack(author_texts['embedding'])\n",
    "    \n",
    "    sims = cosine_similarity(query_emb, embeddings_array)[0]\n",
    "    top_indices = np.argsort(sims)[::-1][:top_n]\n",
    "    \n",
    "    recommendations = author_texts.iloc[top_indices][['first_author_clean']].copy()\n",
    "    recommendations['similarity'] = sims[top_indices]\n",
    "    \n",
    "    return recommendations"
   ]
  },
  {
   "cell_type": "code",
   "execution_count": 9,
   "id": "91f3ac5f",
   "metadata": {},
   "outputs": [
    {
     "data": {
      "text/html": [
       "<div>\n",
       "<style scoped>\n",
       "    .dataframe tbody tr th:only-of-type {\n",
       "        vertical-align: middle;\n",
       "    }\n",
       "\n",
       "    .dataframe tbody tr th {\n",
       "        vertical-align: top;\n",
       "    }\n",
       "\n",
       "    .dataframe thead th {\n",
       "        text-align: right;\n",
       "    }\n",
       "</style>\n",
       "<table border=\"1\" class=\"dataframe\">\n",
       "  <thead>\n",
       "    <tr style=\"text-align: right;\">\n",
       "      <th></th>\n",
       "      <th>first_author_clean</th>\n",
       "      <th>similarity</th>\n",
       "    </tr>\n",
       "  </thead>\n",
       "  <tbody>\n",
       "    <tr>\n",
       "      <th>45199</th>\n",
       "      <td>Muhammad Imran Razzak</td>\n",
       "      <td>0.748852</td>\n",
       "    </tr>\n",
       "    <tr>\n",
       "      <th>20854</th>\n",
       "      <td>Geert Litjens</td>\n",
       "      <td>0.716909</td>\n",
       "    </tr>\n",
       "    <tr>\n",
       "      <th>61268</th>\n",
       "      <td>Stylianos Serghiou</td>\n",
       "      <td>0.711718</td>\n",
       "    </tr>\n",
       "    <tr>\n",
       "      <th>8258</th>\n",
       "      <td>Benjamin Shickel</td>\n",
       "      <td>0.697667</td>\n",
       "    </tr>\n",
       "    <tr>\n",
       "      <th>38756</th>\n",
       "      <td>Maciej A. Mazurowski</td>\n",
       "      <td>0.697566</td>\n",
       "    </tr>\n",
       "  </tbody>\n",
       "</table>\n",
       "</div>"
      ],
      "text/plain": [
       "          first_author_clean  similarity\n",
       "45199  Muhammad Imran Razzak    0.748852\n",
       "20854          Geert Litjens    0.716909\n",
       "61268     Stylianos Serghiou    0.711718\n",
       "8258        Benjamin Shickel    0.697667\n",
       "38756   Maciej A. Mazurowski    0.697566"
      ]
     },
     "execution_count": 9,
     "metadata": {},
     "output_type": "execute_result"
    }
   ],
   "source": [
    "query = \"deep learning for healthcare\"\n",
    "recommended = recommend_researcher(query)\n",
    "recommended"
   ]
  },
  {
   "cell_type": "code",
   "execution_count": 10,
   "id": "01629f30",
   "metadata": {},
   "outputs": [
    {
     "data": {
      "image/png": "[encoded data removed]",
      "text/plain": [
       "<Figure size 800x400 with 1 Axes>"
      ]
     },
     "metadata": {},
     "output_type": "display_data"
    }
   ],
   "source": [
    "plt.figure(figsize=(8, 4))\n",
    "sns.barplot(x=recommended['similarity'], y=recommended['first_author_clean'], orient='h')\n",
    "plt.xlabel('Similarity Score')\n",
    "plt.ylabel('Researcher')\n",
    "plt.title('Top Recommended Researchers')\n",
    "plt.show()"
   ]
  },
  {
   "cell_type": "markdown",
   "id": "9280426f",
   "metadata": {},
   "source": [
    "# 8. Verifikasi Peneliti\n",
    "---"
   ]
  },
  {
   "cell_type": "code",
   "execution_count": 11,
   "id": "35073d10",
   "metadata": {},
   "outputs": [
    {
     "data": {
      "text/html": [
       "<div>\n",
       "<style scoped>\n",
       "    .dataframe tbody tr th:only-of-type {\n",
       "        vertical-align: middle;\n",
       "    }\n",
       "\n",
       "    .dataframe tbody tr th {\n",
       "        vertical-align: top;\n",
       "    }\n",
       "\n",
       "    .dataframe thead th {\n",
       "        text-align: right;\n",
       "    }\n",
       "</style>\n",
       "<table border=\"1\" class=\"dataframe\">\n",
       "  <thead>\n",
       "    <tr style=\"text-align: right;\">\n",
       "      <th></th>\n",
       "      <th>author</th>\n",
       "      <th>total_pub</th>\n",
       "      <th>relevant_pub</th>\n",
       "      <th>relevance_ratio</th>\n",
       "      <th>matched_titles</th>\n",
       "    </tr>\n",
       "  </thead>\n",
       "  <tbody>\n",
       "    <tr>\n",
       "      <th>0</th>\n",
       "      <td>Muhammad Imran Razzak</td>\n",
       "      <td>1</td>\n",
       "      <td>1</td>\n",
       "      <td>1.000000</td>\n",
       "      <td>[Deep Learning for Medical Image Processing: Overview, Challenges and\\n  Future]</td>\n",
       "    </tr>\n",
       "    <tr>\n",
       "      <th>1</th>\n",
       "      <td>Geert Litjens</td>\n",
       "      <td>1</td>\n",
       "      <td>1</td>\n",
       "      <td>1.000000</td>\n",
       "      <td>[A Survey on Deep Learning in Medical Image Analysis]</td>\n",
       "    </tr>\n",
       "    <tr>\n",
       "      <th>2</th>\n",
       "      <td>Stylianos Serghiou</td>\n",
       "      <td>1</td>\n",
       "      <td>1</td>\n",
       "      <td>1.000000</td>\n",
       "      <td>[Deep Learning for Epidemiologists: An Introduction to Neural Networks]</td>\n",
       "    </tr>\n",
       "    <tr>\n",
       "      <th>3</th>\n",
       "      <td>Benjamin Shickel</td>\n",
       "      <td>6</td>\n",
       "      <td>4</td>\n",
       "      <td>0.666667</td>\n",
       "      <td>[Deep EHR: A Survey of Recent Advances in Deep Learning Techniques for\\n  Electronic Health Record (EHR) Analysis, Sequential Interpretability: Methods, Applications, and Future Direction\\n  for Understanding Deep Learning Models in the Context of Sequential Data, Dynamic Predictions of Postoperative Complications from Explainable,\\n  Uncertainty-Aware, and Multi-Task Deep Neural Networks, DeepSOFA: A Continuous Acuity Score for Critically Ill Patients using\\n  Clinically Interpretable Deep Learning]</td>\n",
       "    </tr>\n",
       "    <tr>\n",
       "      <th>4</th>\n",
       "      <td>Maciej A. Mazurowski</td>\n",
       "      <td>1</td>\n",
       "      <td>1</td>\n",
       "      <td>1.000000</td>\n",
       "      <td>[Deep learning in radiology: an overview of the concepts and a survey of\\n  the state of the art]</td>\n",
       "    </tr>\n",
       "  </tbody>\n",
       "</table>\n",
       "</div>"
      ],
      "text/plain": [
       "                  author  total_pub  relevant_pub  relevance_ratio  \\\n",
       "0  Muhammad Imran Razzak          1             1         1.000000   \n",
       "1          Geert Litjens          1             1         1.000000   \n",
       "2     Stylianos Serghiou          1             1         1.000000   \n",
       "3       Benjamin Shickel          6             4         0.666667   \n",
       "4   Maciej A. Mazurowski          1             1         1.000000   \n",
       "\n",
       "                                                                                                                                                                                                                                                                                                                                                                                                                                                                                                              matched_titles  \n",
       "0                                                                                                                                                                                                                                                                                                                                                                                                                                           [Deep Learning for Medical Image Processing: Overview, Challenges and\\n  Future]  \n",
       "1                                                                                                                                                                                                                                                                                                                                                                                                                                                                      [A Survey on Deep Learning in Medical Image Analysis]  \n",
       "2                                                                                                                                                                                                                                                                                                                                                                                                                                                    [Deep Learning for Epidemiologists: An Introduction to Neural Networks]  \n",
       "3  [Deep EHR: A Survey of Recent Advances in Deep Learning Techniques for\\n  Electronic Health Record (EHR) Analysis, Sequential Interpretability: Methods, Applications, and Future Direction\\n  for Understanding Deep Learning Models in the Context of Sequential Data, Dynamic Predictions of Postoperative Complications from Explainable,\\n  Uncertainty-Aware, and Multi-Task Deep Neural Networks, DeepSOFA: A Continuous Acuity Score for Critically Ill Patients using\\n  Clinically Interpretable Deep Learning]  \n",
       "4                                                                                                                                                                                                                                                                                                                                                                                                                          [Deep learning in radiology: an overview of the concepts and a survey of\\n  the state of the art]  "
      ]
     },
     "execution_count": 11,
     "metadata": {},
     "output_type": "execute_result"
    }
   ],
   "source": [
    "recommended['author_clean'] = recommended['first_author_clean'].astype(str).str.strip().str.replace(\"'\", \"\").str.replace('\"', '')\n",
    "\n",
    "query_emb = model.encode(query)\n",
    "similarity_threshold = 0.5\n",
    "results = []\n",
    "\n",
    "for author in recommended['author_clean']:\n",
    "    df_author = df[df['first_author_clean'] == author][['title', 'summary', 'category']].copy()\n",
    "    \n",
    "    if df_author.empty:\n",
    "        total_pub = 0\n",
    "        relevant_pub = 0\n",
    "        relevance_ratio = 0\n",
    "        relevant_titles = []\n",
    "    else:\n",
    "        df_author['summary_emb'] = df_author['summary'].astype(str).apply(lambda x: model.encode(x))\n",
    "        df_author['similarity'] = df_author['summary_emb'].apply(lambda x: cosine_similarity([query_emb], [x])[0][0])\n",
    "        df_author['relevant'] = df_author['similarity'] >= similarity_threshold\n",
    "\n",
    "        total_pub = len(df_author)\n",
    "        relevant_pub = df_author['relevant'].sum()\n",
    "        relevance_ratio = relevant_pub / total_pub if total_pub > 0 else 0\n",
    "        relevant_titles = df_author[df_author['relevant']]['title'].tolist()\n",
    "\n",
    "    results.append({\n",
    "        'author': author,\n",
    "        'total_pub': total_pub,\n",
    "        'relevant_pub': relevant_pub,\n",
    "        'relevance_ratio': relevance_ratio,\n",
    "        'matched_titles': relevant_titles\n",
    "    })\n",
    "\n",
    "results_df = pd.DataFrame(results)\n",
    "pd.set_option('display.max_colwidth', None)\n",
    "results_df\n"
   ]
  }
 ],
 "metadata": {
  "kernelspec": {
   "display_name": "nlp",
   "language": "python",
   "name": "python3"
  },
  "language_info": {
   "codemirror_mode": {
    "name": "ipython",
    "version": 3
   },
   "file_extension": ".py",
   "mimetype": "text/x-python",
   "name": "python",
   "nbconvert_exporter": "python",
   "pygments_lexer": "ipython3",
   "version": "3.12.8"
  }
 },
 "nbformat": 4,
 "nbformat_minor": 5
}
