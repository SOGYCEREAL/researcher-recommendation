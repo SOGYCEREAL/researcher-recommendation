{
 "cells": [
  {
   "cell_type": "markdown",
   "id": "516d5ae1",
   "metadata": {},
   "source": [
    "# Rekomendasi Peneliti Berdasarkan Rekam Jejak Publikasi  \n"
   ]
  },
  {
   "cell_type": "markdown",
   "id": "9afd701b",
   "metadata": {},
   "source": [
    "# 1. Import Libraries\n",
    "---"
   ]
  },
  {
   "cell_type": "code",
   "execution_count": 1,
   "id": "1f4d0b80",
   "metadata": {},
   "outputs": [],
   "source": [
    "import pandas as pd\n",
    "import numpy as np\n",
    "import matplotlib.pyplot as plt\n",
    "import seaborn as sns\n",
    "import warnings\n",
    "from tqdm import tqdm\n",
    "import ast\n",
    "import re\n",
    "warnings.filterwarnings('ignore')\n",
    "\n",
    "from sentence_transformers import SentenceTransformer\n",
    "from sklearn.metrics.pairwise import cosine_similarity"
   ]
  },
  {
   "cell_type": "markdown",
   "id": "7eed7077",
   "metadata": {},
   "source": [
    "# 2. Load & Preprocessing Dataset\n",
    "---"
   ]
  },
  {
   "cell_type": "code",
   "execution_count": 2,
   "id": "ec412108",
   "metadata": {},
   "outputs": [
    {
     "name": "stdout",
     "output_type": "stream",
     "text": [
      "<class 'pandas.core.frame.DataFrame'>\n",
      "Index: 521974 entries, 0 to 136237\n",
      "Data columns (total 12 columns):\n",
      " #   Column              Non-Null Count   Dtype \n",
      "---  ------              --------------   ----- \n",
      " 0   id                  521974 non-null  object\n",
      " 1   title               521974 non-null  object\n",
      " 2   category            521974 non-null  object\n",
      " 3   category_code       521974 non-null  object\n",
      " 4   published_date      521974 non-null  object\n",
      " 5   updated_date        521974 non-null  object\n",
      " 6   authors             521974 non-null  object\n",
      " 7   first_author        521974 non-null  object\n",
      " 8   summary             521974 non-null  object\n",
      " 9   summary_word_count  521974 non-null  int64 \n",
      " 10  content             521974 non-null  object\n",
      " 11  author_clean        521974 non-null  object\n",
      "dtypes: int64(1), object(11)\n",
      "memory usage: 51.8+ MB\n",
      "None\n"
     ]
    },
    {
     "data": {
      "text/html": [
       "<div>\n",
       "<style scoped>\n",
       "    .dataframe tbody tr th:only-of-type {\n",
       "        vertical-align: middle;\n",
       "    }\n",
       "\n",
       "    .dataframe tbody tr th {\n",
       "        vertical-align: top;\n",
       "    }\n",
       "\n",
       "    .dataframe thead th {\n",
       "        text-align: right;\n",
       "    }\n",
       "</style>\n",
       "<table border=\"1\" class=\"dataframe\">\n",
       "  <thead>\n",
       "    <tr style=\"text-align: right;\">\n",
       "      <th></th>\n",
       "      <th>id</th>\n",
       "      <th>title</th>\n",
       "      <th>category</th>\n",
       "      <th>category_code</th>\n",
       "      <th>published_date</th>\n",
       "      <th>updated_date</th>\n",
       "      <th>authors</th>\n",
       "      <th>first_author</th>\n",
       "      <th>summary</th>\n",
       "      <th>summary_word_count</th>\n",
       "      <th>content</th>\n",
       "      <th>author_clean</th>\n",
       "    </tr>\n",
       "  </thead>\n",
       "  <tbody>\n",
       "    <tr>\n",
       "      <th>0</th>\n",
       "      <td>cs-9308101v1</td>\n",
       "      <td>Dynamic Backtracking</td>\n",
       "      <td>Artificial Intelligence</td>\n",
       "      <td>cs.AI</td>\n",
       "      <td>8/1/93</td>\n",
       "      <td>8/1/93</td>\n",
       "      <td>M. L. Ginsberg</td>\n",
       "      <td>'M. L. Ginsberg'</td>\n",
       "      <td>Because of their occasional need to return to ...</td>\n",
       "      <td>79</td>\n",
       "      <td>Dynamic Backtracking . Because of their occasi...</td>\n",
       "      <td>M. L. Ginsberg</td>\n",
       "    </tr>\n",
       "    <tr>\n",
       "      <th>1</th>\n",
       "      <td>cs-9308102v1</td>\n",
       "      <td>A Market-Oriented Programming Environment and ...</td>\n",
       "      <td>Artificial Intelligence</td>\n",
       "      <td>cs.AI</td>\n",
       "      <td>8/1/93</td>\n",
       "      <td>8/1/93</td>\n",
       "      <td>M. P. Wellman</td>\n",
       "      <td>'M. P. Wellman'</td>\n",
       "      <td>Market price systems constitute a well-underst...</td>\n",
       "      <td>119</td>\n",
       "      <td>A Market-Oriented Programming Environment and ...</td>\n",
       "      <td>M. P. Wellman</td>\n",
       "    </tr>\n",
       "    <tr>\n",
       "      <th>2</th>\n",
       "      <td>cs-9309101v1</td>\n",
       "      <td>An Empirical Analysis of Search in GSAT</td>\n",
       "      <td>Artificial Intelligence</td>\n",
       "      <td>cs.AI</td>\n",
       "      <td>9/1/93</td>\n",
       "      <td>9/1/93</td>\n",
       "      <td>I. P. Gent</td>\n",
       "      <td>'I. P. Gent'</td>\n",
       "      <td>We describe an extensive study of search in GS...</td>\n",
       "      <td>167</td>\n",
       "      <td>An Empirical Analysis of Search in GSAT . We d...</td>\n",
       "      <td>I. P. Gent</td>\n",
       "    </tr>\n",
       "    <tr>\n",
       "      <th>2</th>\n",
       "      <td>cs-9309101v1</td>\n",
       "      <td>An Empirical Analysis of Search in GSAT</td>\n",
       "      <td>Artificial Intelligence</td>\n",
       "      <td>cs.AI</td>\n",
       "      <td>9/1/93</td>\n",
       "      <td>9/1/93</td>\n",
       "      <td>T. Walsh</td>\n",
       "      <td>'I. P. Gent'</td>\n",
       "      <td>We describe an extensive study of search in GS...</td>\n",
       "      <td>167</td>\n",
       "      <td>An Empirical Analysis of Search in GSAT . We d...</td>\n",
       "      <td>T. Walsh</td>\n",
       "    </tr>\n",
       "    <tr>\n",
       "      <th>3</th>\n",
       "      <td>cs-9311101v1</td>\n",
       "      <td>The Difficulties of Learning Logic Programs wi...</td>\n",
       "      <td>Artificial Intelligence</td>\n",
       "      <td>cs.AI</td>\n",
       "      <td>11/1/93</td>\n",
       "      <td>11/1/93</td>\n",
       "      <td>F. Bergadano</td>\n",
       "      <td>'F. Bergadano'</td>\n",
       "      <td>As real logic programmers normally use cut (!)...</td>\n",
       "      <td>174</td>\n",
       "      <td>The Difficulties of Learning Logic Programs wi...</td>\n",
       "      <td>F. Bergadano</td>\n",
       "    </tr>\n",
       "  </tbody>\n",
       "</table>\n",
       "</div>"
      ],
      "text/plain": [
       "             id                                              title  \\\n",
       "0  cs-9308101v1                               Dynamic Backtracking   \n",
       "1  cs-9308102v1  A Market-Oriented Programming Environment and ...   \n",
       "2  cs-9309101v1            An Empirical Analysis of Search in GSAT   \n",
       "2  cs-9309101v1            An Empirical Analysis of Search in GSAT   \n",
       "3  cs-9311101v1  The Difficulties of Learning Logic Programs wi...   \n",
       "\n",
       "                  category category_code published_date updated_date  \\\n",
       "0  Artificial Intelligence         cs.AI         8/1/93       8/1/93   \n",
       "1  Artificial Intelligence         cs.AI         8/1/93       8/1/93   \n",
       "2  Artificial Intelligence         cs.AI         9/1/93       9/1/93   \n",
       "2  Artificial Intelligence         cs.AI         9/1/93       9/1/93   \n",
       "3  Artificial Intelligence         cs.AI        11/1/93      11/1/93   \n",
       "\n",
       "          authors      first_author  \\\n",
       "0  M. L. Ginsberg  'M. L. Ginsberg'   \n",
       "1   M. P. Wellman   'M. P. Wellman'   \n",
       "2      I. P. Gent      'I. P. Gent'   \n",
       "2        T. Walsh      'I. P. Gent'   \n",
       "3    F. Bergadano    'F. Bergadano'   \n",
       "\n",
       "                                             summary  summary_word_count  \\\n",
       "0  Because of their occasional need to return to ...                  79   \n",
       "1  Market price systems constitute a well-underst...                 119   \n",
       "2  We describe an extensive study of search in GS...                 167   \n",
       "2  We describe an extensive study of search in GS...                 167   \n",
       "3  As real logic programmers normally use cut (!)...                 174   \n",
       "\n",
       "                                             content    author_clean  \n",
       "0  Dynamic Backtracking . Because of their occasi...  M. L. Ginsberg  \n",
       "1  A Market-Oriented Programming Environment and ...   M. P. Wellman  \n",
       "2  An Empirical Analysis of Search in GSAT . We d...      I. P. Gent  \n",
       "2  An Empirical Analysis of Search in GSAT . We d...        T. Walsh  \n",
       "3  The Difficulties of Learning Logic Programs wi...    F. Bergadano  "
      ]
     },
     "execution_count": 2,
     "metadata": {},
     "output_type": "execute_result"
    }
   ],
   "source": [
    "# Load Dataset\n",
    "\n",
    "# 1. Load dataset\n",
    "df = pd.read_csv('dataset/arXiv_scientific dataset.csv')\n",
    "\n",
    "# 2. Filter artikel pendek\n",
    "df = df[df['summary_word_count'] >= 30]\n",
    "\n",
    "# 3. Gabungkan title + summary + category\n",
    "df['content'] = df['title'].astype(str) + \" . \" + df['summary'].astype(str) + \" . \" + df['category'].astype(str)\n",
    "\n",
    "# 4. Ubah kolom authors ke list (dari string literal)\n",
    "df['authors'] = df['authors'].apply(lambda x: ast.literal_eval(str(x)))\n",
    "\n",
    "# 5. Explode ke per-penulis\n",
    "df_exploded = df.explode('authors').copy()\n",
    "\n",
    "# 6. Hapus author kosong/null/pendek\n",
    "df_exploded = df_exploded[df_exploded['authors'].notnull()]\n",
    "df_exploded = df_exploded[df_exploded['authors'].astype(str).str.strip().str.len() > 2]\n",
    "\n",
    "# 7. Bersihin nama penulis\n",
    "df_exploded['author_clean'] = (\n",
    "    df_exploded['authors']\n",
    "    .astype(str)\n",
    "    .str.strip()\n",
    "    .str.replace(\"'\", \"\")\n",
    "    .str.replace('\"', '')\n",
    ")\n",
    "\n",
    "# 8. Tambahan filter regex: hapus simbol/nama aneh\n",
    "df_exploded = df_exploded[\n",
    "    df_exploded['author_clean'].apply(\n",
    "        lambda x: bool(re.match(r\"^[A-Za-z][A-Za-z ,.\\-']{2,}$\", x))\n",
    "    )\n",
    "]\n",
    "# Check DataFrame information\n",
    "print(df_exploded.info())\n",
    "df_exploded.head()"
   ]
  },
  {
   "cell_type": "markdown",
   "id": "7a740c6e",
   "metadata": {},
   "source": [
    "# 3. Exploratory Data Analysis (EDA)\n",
    "---"
   ]
  },
  {
   "cell_type": "code",
   "execution_count": 3,
   "id": "b742d116",
   "metadata": {},
   "outputs": [
    {
     "name": "stdout",
     "output_type": "stream",
     "text": [
      "Total Article: 135979\n",
      "Average Content Length: 1240.40 words\n",
      "Jumlah Missing Values:\n",
      "id                    0\n",
      "title                 0\n",
      "category              0\n",
      "category_code         0\n",
      "published_date        0\n",
      "updated_date          0\n",
      "authors               0\n",
      "first_author          0\n",
      "summary               0\n",
      "summary_word_count    0\n",
      "content               0\n",
      "dtype: int64\n"
     ]
    }
   ],
   "source": [
    "print(f\"Total Article: {len(df)}\")\n",
    "print(f\"Average Content Length: {df['content'].str.len().mean():.2f} words\")\n",
    "print(f\"Jumlah Missing Values:\\n{df.isnull().sum()}\")"
   ]
  },
  {
   "cell_type": "code",
   "execution_count": 4,
   "id": "7e640153",
   "metadata": {},
   "outputs": [
    {
     "data": {
      "image/png": "[encoded data removed]",
      "text/plain": [
       "<Figure size 800x400 with 1 Axes>"
      ]
     },
     "metadata": {},
     "output_type": "display_data"
    }
   ],
   "source": [
    "df['content_length'] = df['content'].str.len()\n",
    "\n",
    "plt.figure(figsize=(8, 4))\n",
    "df['content_length'].hist(bins=50)\n",
    "plt.title(\"Distribusi Panjang Konten Artikel\")\n",
    "plt.xlabel(\"Jumlah Karakter\")\n",
    "plt.ylabel(\"Jumlah Artikel\")\n",
    "plt.show()"
   ]
  },
  {
   "cell_type": "code",
   "execution_count": 5,
   "id": "dfc50e32",
   "metadata": {},
   "outputs": [
    {
     "data": {
      "image/png": "[encoded data removed]",
      "text/plain": [
       "<Figure size 800x400 with 1 Axes>"
      ]
     },
     "metadata": {},
     "output_type": "display_data"
    }
   ],
   "source": [
    "df_exploded['author_clean'].value_counts().head(10).plot(kind='barh', figsize=(8,4), title='Top 10 Penulis Aktif')\n",
    "plt.xlabel(\"Jumlah Artikel\")\n",
    "plt.gca().invert_yaxis()\n",
    "plt.show()"
   ]
  },
  {
   "cell_type": "markdown",
   "id": "60c221f6",
   "metadata": {},
   "source": [
    "# 4. Author Profiling (Gabung Publikasi per Peneliti)\n",
    "---"
   ]
  },
  {
   "cell_type": "code",
   "execution_count": 6,
   "id": "f5782a6b",
   "metadata": {},
   "outputs": [
    {
     "name": "stdout",
     "output_type": "stream",
     "text": [
      "Total Unique Researcher: 188075\n"
     ]
    },
    {
     "data": {
      "text/html": [
       "<div>\n",
       "<style scoped>\n",
       "    .dataframe tbody tr th:only-of-type {\n",
       "        vertical-align: middle;\n",
       "    }\n",
       "\n",
       "    .dataframe tbody tr th {\n",
       "        vertical-align: top;\n",
       "    }\n",
       "\n",
       "    .dataframe thead th {\n",
       "        text-align: right;\n",
       "    }\n",
       "</style>\n",
       "<table border=\"1\" class=\"dataframe\">\n",
       "  <thead>\n",
       "    <tr style=\"text-align: right;\">\n",
       "      <th></th>\n",
       "      <th>author_clean</th>\n",
       "      <th>content</th>\n",
       "    </tr>\n",
       "  </thead>\n",
       "  <tbody>\n",
       "    <tr>\n",
       "      <th>0</th>\n",
       "      <td>A . M. Barrett</td>\n",
       "      <td>A multi-path 2.5 dimensional convolutional neu...</td>\n",
       "    </tr>\n",
       "    <tr>\n",
       "      <th>1</th>\n",
       "      <td>A Arunkumar</td>\n",
       "      <td>Investigation of Ensemble features of Self-Sup...</td>\n",
       "    </tr>\n",
       "    <tr>\n",
       "      <th>2</th>\n",
       "      <td>A Atyabi</td>\n",
       "      <td>Differential Evolution for Efficient AUV Path ...</td>\n",
       "    </tr>\n",
       "    <tr>\n",
       "      <th>3</th>\n",
       "      <td>A Badano</td>\n",
       "      <td>The stochastic digital human is now enrolling ...</td>\n",
       "    </tr>\n",
       "    <tr>\n",
       "      <th>4</th>\n",
       "      <td>A Baskar</td>\n",
       "      <td>Composition of Relational Features with an App...</td>\n",
       "    </tr>\n",
       "  </tbody>\n",
       "</table>\n",
       "</div>"
      ],
      "text/plain": [
       "     author_clean                                            content\n",
       "0  A . M. Barrett  A multi-path 2.5 dimensional convolutional neu...\n",
       "1     A Arunkumar  Investigation of Ensemble features of Self-Sup...\n",
       "2        A Atyabi  Differential Evolution for Efficient AUV Path ...\n",
       "3        A Badano  The stochastic digital human is now enrolling ...\n",
       "4        A Baskar  Composition of Relational Features with an App..."
      ]
     },
     "execution_count": 6,
     "metadata": {},
     "output_type": "execute_result"
    }
   ],
   "source": [
    "author_texts = df_exploded.groupby('author_clean')['content'].apply(lambda texts: \" \".join(texts)).reset_index()\n",
    "print(f\"Total Unique Researcher: {len(author_texts)}\")\n",
    "author_texts.head()"
   ]
  },
  {
   "cell_type": "markdown",
   "id": "a1f4c199",
   "metadata": {},
   "source": [
    "# 5. Sentence Embedding\n",
    "---"
   ]
  },
  {
   "cell_type": "code",
   "execution_count": 7,
   "id": "ac7bce17",
   "metadata": {},
   "outputs": [],
   "source": [
    "model = SentenceTransformer('all-MiniLM-L6-v2', device='cuda')"
   ]
  },
  {
   "cell_type": "markdown",
   "id": "88010e00",
   "metadata": {},
   "source": [
    "# 6. Batch Processing Embedding\n",
    "---"
   ]
  },
  {
   "cell_type": "code",
   "execution_count": 8,
   "id": "b1c98556",
   "metadata": {},
   "outputs": [
    {
     "name": "stderr",
     "output_type": "stream",
     "text": [
      "100%|██████████| 189/189 [07:48<00:00,  2.48s/it]\n"
     ]
    }
   ],
   "source": [
    "embeddings = []\n",
    "batch_size = 1000\n",
    "\n",
    "for i in tqdm(range(0, len(author_texts), batch_size)):\n",
    "    batch_texts = author_texts['content'].iloc[i:i+batch_size].tolist()\n",
    "    batch_embeddings = model.encode(batch_texts, show_progress_bar=False)\n",
    "    embeddings.extend(batch_embeddings)\n",
    "\n",
    "# Simpan hasil embedding\n",
    "author_texts['embedding'] = embeddings"
   ]
  },
  {
   "cell_type": "markdown",
   "id": "c1db1f7d",
   "metadata": {},
   "source": [
    "# 7. Sistem Rekomendasi Peneliti\n",
    "---"
   ]
  },
  {
   "cell_type": "code",
   "execution_count": 9,
   "id": "44ea0e4a",
   "metadata": {},
   "outputs": [],
   "source": [
    "def recommend_researcher(query, top_n=5):\n",
    "    query_emb = model.encode(query).reshape(1, -1)\n",
    "    embeddings_array = np.vstack(author_texts['embedding'])\n",
    "\n",
    "    sims = cosine_similarity(query_emb, embeddings_array)[0]\n",
    "    top_indices = np.argsort(sims)[::-1][:top_n]\n",
    "\n",
    "    recommendations = author_texts.iloc[top_indices][['author_clean']].copy()\n",
    "    recommendations['similarity'] = sims[top_indices]\n",
    "\n",
    "    return recommendations"
   ]
  },
  {
   "cell_type": "code",
   "execution_count": 10,
   "id": "91f3ac5f",
   "metadata": {},
   "outputs": [
    {
     "data": {
      "text/html": [
       "<div>\n",
       "<style scoped>\n",
       "    .dataframe tbody tr th:only-of-type {\n",
       "        vertical-align: middle;\n",
       "    }\n",
       "\n",
       "    .dataframe tbody tr th {\n",
       "        vertical-align: top;\n",
       "    }\n",
       "\n",
       "    .dataframe thead th {\n",
       "        text-align: right;\n",
       "    }\n",
       "</style>\n",
       "<table border=\"1\" class=\"dataframe\">\n",
       "  <thead>\n",
       "    <tr style=\"text-align: right;\">\n",
       "      <th></th>\n",
       "      <th>author_clean</th>\n",
       "      <th>similarity</th>\n",
       "    </tr>\n",
       "  </thead>\n",
       "  <tbody>\n",
       "    <tr>\n",
       "      <th>3219</th>\n",
       "      <td>Ahmad Zaib</td>\n",
       "      <td>0.748852</td>\n",
       "    </tr>\n",
       "    <tr>\n",
       "      <th>70295</th>\n",
       "      <td>Jeroen A. W. M. van der Laak</td>\n",
       "      <td>0.716909</td>\n",
       "    </tr>\n",
       "    <tr>\n",
       "      <th>83213</th>\n",
       "      <td>Kathryn Rough</td>\n",
       "      <td>0.711718</td>\n",
       "    </tr>\n",
       "    <tr>\n",
       "      <th>150261</th>\n",
       "      <td>Stylianos Serghiou</td>\n",
       "      <td>0.711718</td>\n",
       "    </tr>\n",
       "    <tr>\n",
       "      <th>119886</th>\n",
       "      <td>Patrick Tighe</td>\n",
       "      <td>0.709087</td>\n",
       "    </tr>\n",
       "  </tbody>\n",
       "</table>\n",
       "</div>"
      ],
      "text/plain": [
       "                        author_clean  similarity\n",
       "3219                      Ahmad Zaib    0.748852\n",
       "70295   Jeroen A. W. M. van der Laak    0.716909\n",
       "83213                  Kathryn Rough    0.711718\n",
       "150261            Stylianos Serghiou    0.711718\n",
       "119886                 Patrick Tighe    0.709087"
      ]
     },
     "execution_count": 10,
     "metadata": {},
     "output_type": "execute_result"
    }
   ],
   "source": [
    "query = \"deep learning for healthcare\"\n",
    "recommended = recommend_researcher(query)\n",
    "recommended"
   ]
  },
  {
   "cell_type": "code",
   "execution_count": 11,
   "id": "01629f30",
   "metadata": {},
   "outputs": [
    {
     "data": {
      "image/png": "[encoded data removed]",
      "text/plain": [
       "<Figure size 800x400 with 1 Axes>"
      ]
     },
     "metadata": {},
     "output_type": "display_data"
    }
   ],
   "source": [
    "# Visualize the top recommended researchers\n",
    "plt.figure(figsize=(8, 4))\n",
    "sns.barplot(x=recommended['similarity'], y=recommended['author_clean'], orient='h')\n",
    "plt.xlabel('Similarity Score')\n",
    "plt.ylabel('Researcher')\n",
    "plt.title('Top Recommended Researchers')\n",
    "plt.show()"
   ]
  },
  {
   "cell_type": "markdown",
   "id": "9280426f",
   "metadata": {},
   "source": [
    "# 8. Verifikasi Peneliti\n",
    "---"
   ]
  },
  {
   "cell_type": "code",
   "execution_count": 12,
   "id": "35073d10",
   "metadata": {},
   "outputs": [
    {
     "data": {
      "text/html": [
       "<div>\n",
       "<style scoped>\n",
       "    .dataframe tbody tr th:only-of-type {\n",
       "        vertical-align: middle;\n",
       "    }\n",
       "\n",
       "    .dataframe tbody tr th {\n",
       "        vertical-align: top;\n",
       "    }\n",
       "\n",
       "    .dataframe thead th {\n",
       "        text-align: right;\n",
       "    }\n",
       "</style>\n",
       "<table border=\"1\" class=\"dataframe\">\n",
       "  <thead>\n",
       "    <tr style=\"text-align: right;\">\n",
       "      <th></th>\n",
       "      <th>author</th>\n",
       "      <th>total_pub</th>\n",
       "      <th>relevant_pub</th>\n",
       "      <th>relevance_ratio</th>\n",
       "      <th>matched_titles</th>\n",
       "    </tr>\n",
       "  </thead>\n",
       "  <tbody>\n",
       "    <tr>\n",
       "      <th>0</th>\n",
       "      <td>Ahmad Zaib</td>\n",
       "      <td>1</td>\n",
       "      <td>1</td>\n",
       "      <td>1.0</td>\n",
       "      <td>[Deep Learning for Medical Image Processing: O...</td>\n",
       "    </tr>\n",
       "    <tr>\n",
       "      <th>1</th>\n",
       "      <td>Jeroen A. W. M. van der Laak</td>\n",
       "      <td>1</td>\n",
       "      <td>1</td>\n",
       "      <td>1.0</td>\n",
       "      <td>[A Survey on Deep Learning in Medical Image An...</td>\n",
       "    </tr>\n",
       "    <tr>\n",
       "      <th>2</th>\n",
       "      <td>Kathryn Rough</td>\n",
       "      <td>1</td>\n",
       "      <td>1</td>\n",
       "      <td>1.0</td>\n",
       "      <td>[Deep Learning for Epidemiologists: An Introdu...</td>\n",
       "    </tr>\n",
       "    <tr>\n",
       "      <th>3</th>\n",
       "      <td>Stylianos Serghiou</td>\n",
       "      <td>1</td>\n",
       "      <td>1</td>\n",
       "      <td>1.0</td>\n",
       "      <td>[Deep Learning for Epidemiologists: An Introdu...</td>\n",
       "    </tr>\n",
       "    <tr>\n",
       "      <th>4</th>\n",
       "      <td>Patrick Tighe</td>\n",
       "      <td>1</td>\n",
       "      <td>1</td>\n",
       "      <td>1.0</td>\n",
       "      <td>[Deep EHR: A Survey of Recent Advances in Deep...</td>\n",
       "    </tr>\n",
       "  </tbody>\n",
       "</table>\n",
       "</div>"
      ],
      "text/plain": [
       "                         author  total_pub  relevant_pub  relevance_ratio  \\\n",
       "0                    Ahmad Zaib          1             1              1.0   \n",
       "1  Jeroen A. W. M. van der Laak          1             1              1.0   \n",
       "2                 Kathryn Rough          1             1              1.0   \n",
       "3            Stylianos Serghiou          1             1              1.0   \n",
       "4                 Patrick Tighe          1             1              1.0   \n",
       "\n",
       "                                      matched_titles  \n",
       "0  [Deep Learning for Medical Image Processing: O...  \n",
       "1  [A Survey on Deep Learning in Medical Image An...  \n",
       "2  [Deep Learning for Epidemiologists: An Introdu...  \n",
       "3  [Deep Learning for Epidemiologists: An Introdu...  \n",
       "4  [Deep EHR: A Survey of Recent Advances in Deep...  "
      ]
     },
     "execution_count": 12,
     "metadata": {},
     "output_type": "execute_result"
    }
   ],
   "source": [
    "query_emb = model.encode(query)\n",
    "similarity_threshold = 0.5\n",
    "results = []\n",
    "\n",
    "for author in recommended['author_clean']:\n",
    "    df_author = df_exploded[df_exploded['author_clean'] == author][['title', 'summary', 'category']].copy()\n",
    "    \n",
    "    if df_author.empty:\n",
    "        total_pub = 0\n",
    "        relevant_pub = 0\n",
    "        relevance_ratio = 0\n",
    "        relevant_titles = []\n",
    "    else:\n",
    "        df_author['summary_emb'] = df_author['summary'].astype(str).apply(lambda x: model.encode(x))\n",
    "        df_author['similarity'] = df_author['summary_emb'].apply(lambda x: cosine_similarity([query_emb], [x])[0][0])\n",
    "        df_author['relevant'] = df_author['similarity'] >= similarity_threshold\n",
    "\n",
    "        total_pub = len(df_author)\n",
    "        relevant_pub = df_author['relevant'].sum()\n",
    "        relevance_ratio = relevant_pub / total_pub if total_pub > 0 else 0\n",
    "        relevant_titles = df_author[df_author['relevant']]['title'].tolist()\n",
    "\n",
    "    results.append({\n",
    "        'author': author,\n",
    "        'total_pub': total_pub,\n",
    "        'relevant_pub': relevant_pub,\n",
    "        'relevance_ratio': relevance_ratio,\n",
    "        'matched_titles': relevant_titles\n",
    "    })\n",
    "\n",
    "results_df = pd.DataFrame(results)\n",
    "results_df\n"
   ]
  }
 ],
 "metadata": {
  "kernelspec": {
   "display_name": "nlp",
   "language": "python",
   "name": "python3"
  },
  "language_info": {
   "codemirror_mode": {
    "name": "ipython",
    "version": 3
   },
   "file_extension": ".py",
   "mimetype": "text/x-python",
   "name": "python",
   "nbconvert_exporter": "python",
   "pygments_lexer": "ipython3",
   "version": "3.12.8"
  }
 },
 "nbformat": 4,
 "nbformat_minor": 5
}
